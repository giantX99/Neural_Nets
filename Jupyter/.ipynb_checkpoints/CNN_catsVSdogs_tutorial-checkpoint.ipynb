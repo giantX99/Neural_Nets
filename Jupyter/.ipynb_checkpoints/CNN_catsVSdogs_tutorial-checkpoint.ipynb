{
 "cells": [
  {
   "cell_type": "code",
   "execution_count": 2,
   "id": "5b00104e",
   "metadata": {},
   "outputs": [
    {
     "name": "stdout",
     "output_type": "stream",
     "text": [
      "Epoch 1/3\n",
      "702/702 [==============================] - 63s 88ms/step - loss: 0.6805 - accuracy: 0.5712 - val_loss: 0.6467 - val_accuracy: 0.6333\n",
      "Epoch 2/3\n",
      "702/702 [==============================] - 60s 85ms/step - loss: 0.5990 - accuracy: 0.6816 - val_loss: 0.5519 - val_accuracy: 0.7166\n",
      "Epoch 3/3\n",
      "702/702 [==============================] - 58s 83ms/step - loss: 0.5102 - accuracy: 0.7517 - val_loss: 0.4827 - val_accuracy: 0.7695\n"
     ]
    },
    {
     "data": {
      "text/plain": [
       "<keras.callbacks.History at 0x23e5cfd0d00>"
      ]
     },
     "execution_count": 2,
     "metadata": {},
     "output_type": "execute_result"
    }
   ],
   "source": [
    "import tensorflow as tf\n",
    "from tensorflow.keras.models import Sequential\n",
    "from tensorflow.keras.layers import Dense, Dropout, Activation, Flatten, Conv2D, MaxPooling2D\n",
    "import pickle\n",
    "\n",
    "X = pickle.load(open(\"X.pickle\", \"rb\"))\n",
    "y = pickle.load(open(\"y.pickle\", \"rb\"))\n",
    "\n",
    "X = X/255.0 # normalize data (margnitude of vector is one)\n",
    "# X = tf.keras.utils.normalize(X) -> also normalize the data\n",
    "\n",
    "model = Sequential() # creates the CNN model / sequential type of model\n",
    "\n",
    "# 1st layer, takes input and convolutes.\n",
    "model.add(Conv2D(64, (3,3), input_shape = X.shape[1:])) #Conv2D(#of_neurons, kernel_window_shape, input_shape)\n",
    "# In general convolution and maxpooling goes together.\n",
    "# After convolution layer we can pass either Activation layer or Pooling layer\n",
    "model.add(Activation(\"relu\")) # relu = rectified linear\n",
    "model.add(MaxPooling2D(pool_size=(2,2)))\n",
    "\n",
    "# 2nd convolution layer\n",
    "model.add(Conv2D(64, (3,3)))\n",
    "model.add(Activation(\"relu\"))\n",
    "model.add(MaxPooling2D(pool_size=(2,2)))\n",
    "\n",
    "# 3rd layer -> dense layer\n",
    "model.add(Flatten()) # Flattens data -> makes it 1D array\n",
    "model.add(Dense(64)) # 1D layer needs 1D data\n",
    "model.add(Activation(\"relu\"))\n",
    "\n",
    "# Output layer\n",
    "model.add(Dense(1))\n",
    "model.add(Activation('sigmoid'))\n",
    "\n",
    "model.compile(loss=\"binary_crossentropy\",\n",
    "             optimizer=\"adam\",\n",
    "             metrics=['accuracy'])\n",
    "\n",
    "model.fit(X, y, batch_size=32, epochs=3, validation_split=0.1) #batch_size is how many pics at a time do we wanna pass, generaly is good to pass around 20 to 200 depending on data set\n"
   ]
  }
 ],
 "metadata": {
  "kernelspec": {
   "display_name": "Python 3 (ipykernel)",
   "language": "python",
   "name": "python3"
  },
  "language_info": {
   "codemirror_mode": {
    "name": "ipython",
    "version": 3
   },
   "file_extension": ".py",
   "mimetype": "text/x-python",
   "name": "python",
   "nbconvert_exporter": "python",
   "pygments_lexer": "ipython3",
   "version": "3.10.5"
  }
 },
 "nbformat": 4,
 "nbformat_minor": 5
}
