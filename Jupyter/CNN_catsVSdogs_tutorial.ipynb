{
 "cells": [
  {
   "cell_type": "code",
   "execution_count": 3,
   "id": "5b00104e",
   "metadata": {},
   "outputs": [
    {
     "name": "stdout",
     "output_type": "stream",
     "text": [
      "Epoch 1/3\n",
      "702/702 [==============================] - 64s 90ms/step - loss: 0.6049 - accuracy: 0.6591 - val_loss: 0.5125 - val_accuracy: 0.7595\n",
      "Epoch 2/3\n",
      "702/702 [==============================] - 64s 91ms/step - loss: 0.4896 - accuracy: 0.7632 - val_loss: 0.4472 - val_accuracy: 0.7908\n",
      "Epoch 3/3\n",
      "702/702 [==============================] - 63s 90ms/step - loss: 0.4311 - accuracy: 0.8029 - val_loss: 0.4344 - val_accuracy: 0.7976\n"
     ]
    },
    {
     "data": {
      "text/plain": [
       "<keras.callbacks.History at 0x23e5ca200d0>"
      ]
     },
     "execution_count": 3,
     "metadata": {},
     "output_type": "execute_result"
    }
   ],
   "source": [
    "import tensorflow as tf\n",
    "from tensorflow.keras.models import Sequential\n",
    "from tensorflow.keras.layers import Dense, Dropout, Activation, Flatten, Conv2D, MaxPooling2D\n",
    "import pickle\n",
    "\n",
    "X = pickle.load(open(\"X.pickle\", \"rb\"))\n",
    "y = pickle.load(open(\"y.pickle\", \"rb\"))\n",
    "\n",
    "X = X/255.0 # normalize data (margnitude of vector is one)\n",
    "# X = tf.keras.utils.normalize(X) -> also normalize the data\n",
    "\n",
    "model = Sequential() # creates the CNN model / sequential type of model\n",
    "\n",
    "# 1st layer, takes input and convolutes.\n",
    "model.add(Conv2D(64, (3,3), input_shape = X.shape[1:])) #Conv2D(#of_neurons, kernel_window_shape, input_shape)\n",
    "# In general convolution and maxpooling goes together.\n",
    "# After convolution layer we can pass either Activation layer or Pooling layer\n",
    "model.add(Activation(\"relu\")) # relu = rectified linear\n",
    "model.add(MaxPooling2D(pool_size=(2,2)))\n",
    "\n",
    "# 2nd convolution layer\n",
    "model.add(Conv2D(64, (3,3)))\n",
    "model.add(Activation(\"relu\"))\n",
    "model.add(MaxPooling2D(pool_size=(2,2)))\n",
    "\n",
    "# 3rd layer -> dense layer\n",
    "model.add(Flatten()) # Flattens data -> makes it 1D array\n",
    "model.add(Dense(64)) # 1D layer needs 1D data\n",
    "model.add(Activation(\"relu\"))\n",
    "\n",
    "# Output layer\n",
    "model.add(Dense(1))\n",
    "model.add(Activation('sigmoid'))\n",
    "\n",
    "model.compile(loss=\"binary_crossentropy\",\n",
    "             optimizer=\"adam\",\n",
    "             metrics=['accuracy'])\n",
    "\n",
    "model.fit(X, y, batch_size=32, epochs=3, validation_split=0.1) #batch_size is how many pics at a time do we wanna pass, generaly is good to pass around 20 to 200 depending on data set\n"
   ]
  }
 ],
 "metadata": {
  "kernelspec": {
   "display_name": "Python 3 (ipykernel)",
   "language": "python",
   "name": "python3"
  },
  "language_info": {
   "codemirror_mode": {
    "name": "ipython",
    "version": 3
   },
   "file_extension": ".py",
   "mimetype": "text/x-python",
   "name": "python",
   "nbconvert_exporter": "python",
   "pygments_lexer": "ipython3",
   "version": "3.10.5"
  }
 },
 "nbformat": 4,
 "nbformat_minor": 5
}
